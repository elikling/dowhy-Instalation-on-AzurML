{
 "cells": [
  {
   "cell_type": "markdown",
   "metadata": {},
   "source": [
    "# The DoWhy package provides several utilities for synthesizing data.\n",
    "### Knowing how data is generated is a good starting point when learning a new methodology or algorithm."
   ]
  },
  {
   "cell_type": "code",
   "execution_count": null,
   "metadata": {},
   "outputs": [],
   "source": [
    "import networkx as nx\n",
    "import matplotlib.pyplot as plt\n",
    "import pandas as pd\n",
    "import numpy as np\n",
    "\n",
    "import dowhy.datasets "
   ]
  },
  {
   "cell_type": "markdown",
   "metadata": {},
   "source": [
    "# Define auxiliary functions"
   ]
  },
  {
   "cell_type": "code",
   "execution_count": null,
   "metadata": {},
   "outputs": [],
   "source": [
    "def plot_gml(gml_graph):\n",
    "    G = nx.parse_gml(gml_graph)\n",
    "    pos=nx.spring_layout(G)\n",
    "    nx.draw_networkx(G, pos, with_labels=True, node_size=1000, node_color=\"darkorange\")\n",
    "    return(plt.show())"
   ]
  },
  {
   "cell_type": "code",
   "execution_count": null,
   "metadata": {},
   "outputs": [],
   "source": [
    "def describe_synthetic_data(synthetic_data):\n",
    " if (synthetic_data['gml_graph'] != None) :\n",
    "    plot_gml(synthetic_data[\"gml_graph\"])                                               \n",
    " synthetic_data_df=synthetic_data[\"df\"]\n",
    " #print(synthetic_data_df.head())\n",
    " print('------- Variables --------')\n",
    " print('Treatment vars:'      , synthetic_data['treatment_name'])\n",
    " print('Outcome vars:'        , synthetic_data['outcome_name'])\n",
    " print('Common causes vars:'  , synthetic_data['common_causes_names'])\n",
    " print('Instrument vars:'     , synthetic_data['instrument_names'])\n",
    " print('Effect Modifier vars:', synthetic_data['effect_modifier_names'])\n",
    " print('Frontdoor vars:'      , synthetic_data['frontdoor_variables_names'])\n",
    " print('Treatment vars:', synthetic_data['outcome_name'])\n",
    " print('-------- Corr -------')\n",
    " print(synthetic_data_df.corr())\n",
    " print('------- Head --------')\n",
    " return(synthetic_data_df)"
   ]
  },
  {
   "cell_type": "markdown",
   "metadata": {},
   "source": [
    "# linear_dataset "
   ]
  },
  {
   "cell_type": "markdown",
   "metadata": {},
   "source": [
    "```\n",
    " dowhy.datasets.linear_dataset(beta,\n",
    "                              num_common_causes,\n",
    "                              num_samples,\n",
    "                              num_instruments=0,\n",
    "                              num_effect_modifiers=0,\n",
    "                              num_treatments=1,\n",
    "                              num_frontdoor_variables=0,\n",
    "                              treatment_is_binary=True,\n",
    "                              treatment_is_category=False,\n",
    "                              outcome_is_binary=False,\n",
    "                              stochastic_discretization=True,\n",
    "                              num_discrete_common_causes=0,\n",
    "                              num_discrete_instruments=0,\n",
    "                              num_discrete_effect_modifiers=0,\n",
    "                              stddev_treatment_noise=1,\n",
    "                              stddev_outcome_noise=0.01,\n",
    "                              one_hot_encode=False\n",
    "                              )\n",
    "```"
   ]
  },
  {
   "cell_type": "markdown",
   "metadata": {},
   "source": [
    "```\n",
    "Outputs a dictionary\n",
    "{\n",
    "        \"df\": data,\n",
    "        \"treatment_name\": treatments,\n",
    "        \"outcome_name\": outcome,\n",
    "        \"common_causes_names\": common_causes,\n",
    "        \"instrument_names\": instruments,\n",
    "        \"effect_modifier_names\": effect_modifiers,\n",
    "        \"frontdoor_variables_names\": frontdoor_variables,\n",
    "        \"dot_graph\": dot_graph,\n",
    "        \"gml_graph\": gml_graph,\n",
    "        \"ate\": ate\n",
    "}\n",
    "```"
   ]
  },
  {
   "cell_type": "markdown",
   "metadata": {},
   "source": [
    "```\n",
    "The function generates a data set with [num_samples] records.\n",
    "v variables - are the treatments where abs(*beta*) defines thier magnitude if continuos\n",
    "y - is the outcome variable where abs(*beta*) defines its magnitude. Basically:\n",
    " y = normal(0, stddev_outcome_noise) + t @ beta [where @ is a numpy matrix multiplication alowing for beta be a vector]\n",
    "\n",
    "the W variables commonly cause both the treatment and the outcome and are iid. if continuos then they are Norm(mue = Unif(-1,1), sigma = 1)\n",
    "\n",
    "Instrument variables are labled Z and each one affects all treatments. i.e. if there is one instument and two treatments then z0->v0, z0->v1\n",
    "\n",
    "X as the effect modifiers. Their number should be 0 or equal to the number of treatments (bug) they are Norm(mue = Unif(-1,1), sigma = 1)\n",
    "\n",
    "\n",
    "Quartiles are used when discretised variables are spesified. They can be hot encoded."
   ]
  },
  {
   "cell_type": "markdown",
   "metadata": {},
   "source": [
    "## *beta* - defines the causality effect of interest. It affects the value magniturde for the continous treatments and outcomes variables - 'y' thus also the magnitude of the resulting ate.\n",
    "### In most cases the absolute value is considered"
   ]
  },
  {
   "cell_type": "code",
   "execution_count": null,
   "metadata": {},
   "outputs": [],
   "source": [
    "# create a dataset with 10 observations one binary treatment and a continous outcome affected by one common cause\n",
    "synthetic_data = dowhy.datasets.linear_dataset(beta = 100,\n",
    "                                               num_common_causes = 1,\n",
    "                                               num_samples =10\n",
    "                                               )\n",
    "describe_synthetic_data(synthetic_data).head()"
   ]
  },
  {
   "cell_type": "code",
   "execution_count": null,
   "metadata": {},
   "outputs": [],
   "source": [
    "# Two continuos treatments, no common cause, an instrumental variable and two effect modifiers - linearly added appropriately\n",
    "synthetic_data = dowhy.datasets.linear_dataset(\n",
    "                              beta                          = 100,\n",
    "                              num_common_causes             =   0,\n",
    "                              num_samples                   =  20,\n",
    "                              num_instruments               =   1,\n",
    "                              num_effect_modifiers          =   2, \n",
    "                              num_treatments                =   2,\n",
    "                              num_frontdoor_variables       =   0,\n",
    "                              treatment_is_binary           = False,\n",
    "                              treatment_is_category         = False,\n",
    "                              outcome_is_binary             = False,\n",
    "                              stochastic_discretization     = True,\n",
    "                              num_discrete_common_causes    =   0,\n",
    "                              num_discrete_instruments      =   0,\n",
    "                              num_discrete_effect_modifiers =   0,\n",
    "                              stddev_treatment_noise        =   1,\n",
    "                              stddev_outcome_noise          =  0.01,\n",
    "                              one_hot_encode                = False\n",
    "                                               )\n",
    "describe_synthetic_data(synthetic_data).head()"
   ]
  },
  {
   "cell_type": "code",
   "execution_count": null,
   "metadata": {},
   "outputs": [],
   "source": [
    "# Hot Encoding\n",
    "synthetic_data = dowhy.datasets.linear_dataset(\n",
    "                              beta                          = 100,\n",
    "                              num_common_causes             =   2,\n",
    "                              num_samples                   =  20,\n",
    "                              num_instruments               =   1,\n",
    "                              num_effect_modifiers          =   1, \n",
    "                              num_treatments                =   1,\n",
    "                              num_frontdoor_variables       =   1,\n",
    "                              treatment_is_binary           = False,\n",
    "                              treatment_is_category         = False,\n",
    "                              outcome_is_binary             = False,\n",
    "                              stochastic_discretization     = True,\n",
    "                              num_discrete_common_causes    =   1, #of the total num_common_causes\n",
    "                              num_discrete_instruments      =   1,\n",
    "                              num_discrete_effect_modifiers =   1,\n",
    "                              stddev_treatment_noise        =   1,\n",
    "                              stddev_outcome_noise          =  0.01,\n",
    "                              one_hot_encode                = True\n",
    "                                               )\n",
    "describe_synthetic_data(synthetic_data).head()"
   ]
  }
 ],
 "metadata": {
  "kernelspec": {
   "display_name": "Python 3.9.5 64-bit",
   "language": "python",
   "name": "python3"
  },
  "language_info": {
   "codemirror_mode": {
    "name": "ipython",
    "version": 3
   },
   "file_extension": ".py",
   "mimetype": "text/x-python",
   "name": "python",
   "nbconvert_exporter": "python",
   "pygments_lexer": "ipython3",
   "version": "3.9.5"
  },
  "orig_nbformat": 4,
  "vscode": {
   "interpreter": {
    "hash": "25a19fbe0a9132dfb9279d48d161753c6352f8f9478c2e74383d340069b907c3"
   }
  }
 },
 "nbformat": 4,
 "nbformat_minor": 2
}
